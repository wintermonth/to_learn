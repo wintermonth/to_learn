{
  "nbformat": 4,
  "nbformat_minor": 0,
  "metadata": {
    "colab": {
      "name": "Лаба_1.ipynb",
      "provenance": [],
      "collapsed_sections": [],
      "include_colab_link": true
    },
    "kernelspec": {
      "name": "python3",
      "display_name": "Python 3"
    }
  },
  "cells": [
    {
      "cell_type": "markdown",
      "metadata": {
        "id": "view-in-github",
        "colab_type": "text"
      },
      "source": [
        "<a href=\"https://colab.research.google.com/github/wintermonth/to_learn/blob/master/%D0%9B%D0%B0%D0%B1%D0%B0%D1%80%D0%B0%D1%82%D0%BE%D1%80%D0%BD%D0%B0%D1%8F_1.ipynb\" target=\"_parent\"><img src=\"https://colab.research.google.com/assets/colab-badge.svg\" alt=\"Open In Colab\"/></a>"
      ]
    },
    {
      "cell_type": "markdown",
      "metadata": {
        "id": "2yqjMbvoEQNh",
        "colab_type": "text"
      },
      "source": [
        "# Лабораторная работа №1"
      ]
    },
    {
      "cell_type": "markdown",
      "metadata": {
        "id": "--qOietHMWIs",
        "colab_type": "text"
      },
      "source": [
        "## Цель работы\n",
        "\n",
        "Разработка системы нечеткого логического вывода «Предсказкание мягкости посадки самолета»."
      ]
    },
    {
      "cell_type": "markdown",
      "metadata": {
        "id": "NwXGJvofMeu1",
        "colab_type": "text"
      },
      "source": [
        "## План работы"
      ]
    },
    {
      "cell_type": "markdown",
      "metadata": {
        "id": "3RPbFI-dMks7",
        "colab_type": "text"
      },
      "source": [
        "### Предметная область\n",
        "\n",
        "Авиация"
      ]
    },
    {
      "cell_type": "markdown",
      "metadata": {
        "id": "rokiXeLfMrzw",
        "colab_type": "text"
      },
      "source": [
        "### Задача\n",
        "\n",
        "Спрогнозировать мягкость посадки самолета на основании данных о ветренности при посадке, стаже пилота и "
      ]
    },
    {
      "cell_type": "markdown",
      "metadata": {
        "id": "2fyXWfUPMMgd",
        "colab_type": "text"
      },
      "source": [
        "### Описание входных данных с помощью векторов лингвистических переменных"
      ]
    },
    {
      "cell_type": "markdown",
      "metadata": {
        "id": "qs71nDDJL-pJ",
        "colab_type": "text"
      },
      "source": [
        "1. **Данные о ветренности при посадке**\n",
        "  \n",
        "      *Название переменной:* w = *ветренность*\n",
        "    \n",
        "    *Терм-множество значений:*  T1 = “низкая”, T2 = ”умеренная”, T3 = ”высокая”\n",
        "      \n",
        "    *Носитель:*  U = промежуток от 0 до 30, целые числа\n",
        "    \n",
        "    *Синтаксическое правило*: какова ветренность (м/с)\n",
        "    \n",
        "    *Семантическое правило:* определяется функциями принадлежности, для значения T1 - m1(U), для T2 - m2(U), для T3 - m3(U). Причем первая из них отвечает нечеткому подмножеству M1, вторая – M2, третья – M3.\n",
        "\n",
        "2. **Данный о количестве полетов пилота (стаж пилота)**\n",
        "  \n",
        "      *Название переменной:* w = \"количество полетов\"\n",
        "    \n",
        "    *Терм-множество значений:*  T1 = “мало”, T2 = ”умеренное количетсво”, T3 = ”много”\n",
        "      \n",
        "    *Носитель:*  U = промежуток от 50 до 500, целые числа\n",
        "    \n",
        "    *Синтаксическое правило*: как много совершено полетов\n",
        "    \n",
        "    *Семантическое правило:* определяется функциями принадлежности, для значения T1 - m1(U), для T2 - m2(U), для T3 - m3(U). Причем первая из них отвечает нечеткому подмножеству M1, вторая – M2, третья – M3.\n",
        "    \n",
        "    \n",
        "3. **Данные о годе производства самолета**\n",
        "  \n",
        "      *Название переменной:* w = \"год производства\"\n",
        "    \n",
        "    *Терм-множество значений:*  T1 = “старый”, T2 = ”средний”, T3 = ”новый”\n",
        "      \n",
        "    *Носитель:*  U = промежуток от 1990 до 2019, целые числа\n",
        "    \n",
        "    *Синтаксическое правило*: когда был произведен самолет\n",
        "    \n",
        "    *Семантическое правило:* определяется функциями принадлежности, для значения T1 - m1(U), для T2 - m2(U), для T3 - m3(U). Причем первая из них отвечает нечеткому подмножеству M1, вторая – M2, третья – M3.\n",
        "\n",
        "\n",
        "\n",
        "4. **Данные о мягкости посадки**\n",
        "  \n",
        "      *Название переменной:* w = \"мягкость посадки\"\n",
        "    \n",
        "    *Терм-множество значений:*  T1 = “плохая”, T2 = ”средняя”, T3 = ”хорошая”\n",
        "      \n",
        "    *Носитель:*  U = промежуток от 0 до 10, целые числа\n",
        "    \n",
        "    *Синтаксическое правило*: на сколько мягкая была посадка\n",
        "    \n",
        "    *Семантическое правило:* определяется функциями принадлежности, для значения T1 - m1(U), для T2 - m2(U), для T3 - m3(U). Причем первая из них отвечает нечеткому подмножеству M1, вторая – M2, третья – M3.\n",
        "\n"
      ]
    },
    {
      "cell_type": "markdown",
      "metadata": {
        "id": "9HZuM-wCNW-y",
        "colab_type": "text"
      },
      "source": [
        "### Ввод данных и построение графиков"
      ]
    },
    {
      "cell_type": "code",
      "metadata": {
        "colab_type": "code",
        "id": "8Le4zpIoOCMV",
        "colab": {}
      },
      "source": [
        "import numpy as np\n",
        "import skfuzzy as fuzz\n",
        "import matplotlib.pyplot as plt"
      ],
      "execution_count": 0,
      "outputs": []
    },
    {
      "cell_type": "code",
      "metadata": {
        "id": "N24ZIxu_X6Du",
        "colab_type": "code",
        "colab": {}
      },
      "source": [
        "# Generate universe functions\n",
        "windiness = np.arange(0, 30, 1) # На сколько ветренно м/c\n",
        "flights = np.arange(50, 500, 1) # Количество полетов \n",
        "year = np.arange(1990, 2019, 1) # Год сборки самолета\n",
        "\n",
        "softness = np.arange(0, 10, 1) # Мягкость посадки\n",
        "\n",
        "# Membership functions for windiness\n",
        "windiness_low = fuzz.trapmf(windiness, [0, 0, 0, 10])\n",
        "windiness_moderate = fuzz.trapmf(windiness, [5, 10, 15, 25])\n",
        "windiness_high = fuzz.trimf(windiness, [20, 30, 30])\n",
        "\n",
        "# Membership functions for flights\n",
        "flights_low = fuzz.trapmf(flights, [50, 50 , 50, 200])\n",
        "flights_moderate = fuzz.trapmf(flights, [150, 250, 300, 350])\n",
        "flights_high = fuzz.trimf(flights, [300, 500, 500])\n",
        "\n",
        "\n",
        "# Membership functions for year\n",
        "year_old = fuzz.trapmf(year, [1990, 1990, 1990, 2005])\n",
        "year_medium = fuzz.trapmf(year, [1998, 2007, 2012, 2016])\n",
        "year_new = fuzz.trimf(year, [2012, 2019, 2019])\n",
        "\n",
        "\n",
        "# Membership functions for softness\n",
        "softness_bad = fuzz.trapmf(softness, [0, 0, 0, 4])\n",
        "softness_medium = fuzz.trapmf(softness, [3, 4, 5, 7])\n",
        "softness_good = fuzz.trapmf(softness, [6, 8, 10, 10])"
      ],
      "execution_count": 0,
      "outputs": []
    },
    {
      "cell_type": "code",
      "metadata": {
        "id": "9xS10iGhrzcq",
        "colab_type": "code",
        "outputId": "d7fb3485-4106-4d69-9acf-ef3ee4f0538e",
        "colab": {
          "base_uri": "https://localhost:8080/",
          "height": 321
        }
      },
      "source": [
        "# Visualize membership functions for temperature\n",
        "fig, (ax1, ax2, ax3, ax4) = plt.subplots(1, 4, figsize=(17, 4))\n",
        "\n",
        "ax1.plot(windiness, windiness_low, 'r', windiness, windiness_moderate, 'm', windiness, windiness_high, 'b', linewidth=2.5)\n",
        "ax1.set_ylabel('Fuzzy membership')\n",
        "ax1.set_xlabel('windiness (m/s)')\n",
        "\n",
        "ax2.plot(flights, flights_low, 'r', flights, flights_moderate, 'm', flights, flights_high, 'b', linewidth=2.5)\n",
        "ax2.set_ylabel('Fuzzy membership')\n",
        "ax2.set_xlabel('flights')\n",
        "\n",
        "ax3.plot(year, year_old, 'r', year, year_medium, 'm', year, year_new, 'b', linewidth=2.5)\n",
        "ax3.set_ylabel('Fuzzy membership')\n",
        "ax3.set_xlabel('year')\n",
        "\n",
        "ax4.plot(softness, softness_bad, 'r', softness, softness_medium, 'm', softness, softness_good, 'b', linewidth=2.5)\n",
        "ax4.set_ylabel('Fuzzy membership')\n",
        "ax4.set_xlabel('softness')"
      ],
      "execution_count": 0,
      "outputs": [
        {
          "output_type": "execute_result",
          "data": {
            "text/plain": [
              "Text(0.5, 0, 'softness')"
            ]
          },
          "metadata": {
            "tags": []
          },
          "execution_count": 13
        },
        {
          "output_type": "display_data",
          "data": {
            "image/png": "[encoded data removed]",
            "text/plain": [
              "<Figure size 1224x288 with 4 Axes>"
            ]
          },
          "metadata": {
            "tags": []
          }
        }
      ]
    },
    {
      "cell_type": "code",
      "metadata": {
        "id": "0rxBn3ZBOmVb",
        "colab_type": "code",
        "colab": {}
      },
      "source": [
        ""
      ],
      "execution_count": 0,
      "outputs": []
    },
    {
      "cell_type": "code",
      "metadata": {
        "id": "byLHZXwpOmnt",
        "colab_type": "code",
        "colab": {}
      },
      "source": [
        ""
      ],
      "execution_count": 0,
      "outputs": []
    },
    {
      "cell_type": "code",
      "metadata": {
        "id": "LP-IkegAOmtc",
        "colab_type": "code",
        "colab": {}
      },
      "source": [
        ""
      ],
      "execution_count": 0,
      "outputs": []
    },
    {
      "cell_type": "code",
      "metadata": {
        "id": "O25kSVjCOmyT",
        "colab_type": "code",
        "colab": {}
      },
      "source": [
        ""
      ],
      "execution_count": 0,
      "outputs": []
    },
    {
      "cell_type": "code",
      "metadata": {
        "id": "cXjIYY57OnEV",
        "colab_type": "code",
        "colab": {}
      },
      "source": [
        ""
      ],
      "execution_count": 0,
      "outputs": []
    },
    {
      "cell_type": "code",
      "metadata": {
        "id": "XmAs-SFZxLFK",
        "colab_type": "code",
        "colab": {}
      },
      "source": [
        "# Fuzzy relation\n",
        "R1 = fuzz.relation_product([windiness_low, flights_high, year_new], softness_good)\n",
        "R2 = fuzz.relation_product([windiness_moderate, flights_moderate, year_medium], softness_medium)\n",
        "R3 = fuzz.relation_product([windiness_high, flights_low, year_old], softness_bad)\n",
        "\n",
        "R4 = fuzz.relation_product([windiness_high, flights_high, year_medium], softness_bad)\n",
        "R5 = fuzz.relation_product([windiness_high, flights_high, year_new], softness_medium)\n",
        "R6 = fuzz.relation_product([windiness_moderate, flights_moderate, year_new], softness_medium)\n",
        "\n",
        "R7 = fuzz.relation_product([windiness_low, flights_moderate, year_new], softness_good)\n",
        "R8 = fuzz.relation_product([windiness_low, flights_high, year_new], softness_good)\n",
        "R9 = fuzz.relation_product([windiness_moderate, flights_low, year_medium], softness_bad)"
      ],
      "execution_count": 0,
      "outputs": []
    },
    {
      "cell_type": "code",
      "metadata": {
        "id": "anOyhJAaOLld",
        "colab_type": "code",
        "colab": {}
      },
      "source": [
        ""
      ],
      "execution_count": 0,
      "outputs": []
    }
  ]
}